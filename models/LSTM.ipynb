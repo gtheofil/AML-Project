{
 "cells": [
  {
   "cell_type": "code",
   "execution_count": 25,
   "metadata": {},
   "outputs": [
    {
     "name": "stdout",
     "output_type": "stream",
     "text": [
      "Loaded features from E:\\MSC\\Spring\\AML\\GestureLink\\data\\G\\windowed_data\\feature_matrix.npy, shape: (150, 59, 15, 7)\n",
      "Loaded labels from E:\\MSC\\Spring\\AML\\GestureLink\\data\\G\\windowed_data\\labels.npy, shape: (150,)\n",
      "[15  6  2 22  4 12  3 10 19  8 20  1  3 10 13 18  8 16 24 17 15 22  7  6\n",
      " 11  5 26 13 20 25 18  9 21 24  3 17 10 22 11  2 11 21 22  1 17 15 19 24\n",
      " 14 26 24 26 20 17  2  7 13 18 14 23  7  2 22  1 11 10 23 16 24  9 12  6\n",
      "  2 10 17  7 25 19 21  9 19 22  4 25  1  5 11 20  9 10  5 25 12 13 20 11\n",
      " 23 19  3  7 11  8 21  6 25  3  9 13 22  7  5 20 26 22 14  8  6 16 13 24\n",
      " 19 21  8 13 12  7  5 25 16 26 23 14 16  3  9 21  7 15  4 12  6  7 13 14\n",
      " 15 23  3 12 19  2]\n",
      "Training set: X_train: (120, 59, 15, 7), y_train: (120,)\n",
      "Testing set: X_test: (30, 59, 15, 7), y_test: (30,)\n"
     ]
    }
   ],
   "source": [
    "import numpy as np\n",
    "import os\n",
    "from sklearn.model_selection import train_test_split\n",
    "\n",
    "def load_data(data_folder, test_size=0.2, random_state=42):\n",
    "    \"\"\"\n",
    "    加载 `feature_matrix.npy` 和 `labels.npy` 数据，并划分训练集和测试集。\n",
    "\n",
    "    参数：\n",
    "    - data_folder: 存放数据的文件夹路径\n",
    "    - test_size: 测试集比例 (默认 20%)\n",
    "    - random_state: 随机种子，保证可复现性\n",
    "\n",
    "    返回：\n",
    "    - X_train: 训练集特征，形状 (train_batches, num_windows, 15, num_channels)\n",
    "    - X_test: 测试集特征，形状 (test_batches, num_windows, 15, num_channels)\n",
    "    - y_train: 训练集标签，形状 (train_batches,)\n",
    "    - y_test: 测试集标签，形状 (test_batches,)\n",
    "    \"\"\"\n",
    "    # **加载数据**\n",
    "    feature_path = os.path.join(data_folder, \"feature_matrix.npy\")\n",
    "    label_path = os.path.join(data_folder, \"labels.npy\")\n",
    "\n",
    "    if not os.path.exists(feature_path) or not os.path.exists(label_path):\n",
    "        raise FileNotFoundError(\"特征文件或标签文件未找到，请检查路径！\")\n",
    "\n",
    "    X = np.load(feature_path)  # 形状 (num_batches, num_windows, 15, num_channels)\n",
    "    y = np.load(label_path)  # 形状 (num_batches,)\n",
    "\n",
    "    # **数据基本信息**\n",
    "    print(f\"Loaded features from {feature_path}, shape: {X.shape}\")\n",
    "    print(f\"Loaded labels from {label_path}, shape: {y.shape}\")\n",
    "\n",
    "    # **划分训练集和测试集**\n",
    "    # X_train, X_test, y_train, y_test = train_test_split(X, y, test_size=test_size, random_state=random_state, stratify=y)\n",
    "    X_train, X_test, y_train, y_test = train_test_split(\n",
    "            X, y, test_size=0.2, random_state=random_state\n",
    "        )\n",
    "\n",
    "    # **打印数据划分信息**\n",
    "    print(f\"Training set: X_train: {X_train.shape}, y_train: {y_train.shape}\")\n",
    "    print(f\"Testing set: X_test: {X_test.shape}, y_test: {y_test.shape}\")\n",
    "\n",
    "    return X_train, X_test, y_train, y_test\n",
    "\n",
    "# **使用示例**\n",
    "data_folder = r\"E:\\MSC\\Spring\\AML\\GestureLink\\data\\G\\windowed_data\"\n",
    "X_train, X_test, y_train, y_test = load_data(data_folder)\n",
    "\n"
   ]
  },
  {
   "cell_type": "code",
   "execution_count": 24,
   "metadata": {},
   "outputs": [
    {
     "data": {
      "text/plain": [
       "array([ 7, 18, 10,  1, 22,  3, 26, 13,  4, 21, 13,  5, 11,  8, 20, 22,  3,\n",
       "       15,  7,  7, 23,  3, 23, 15,  8, 16, 20, 11, 17,  7, 13, 11,  5,  6,\n",
       "       20,  2, 11, 16, 24, 19, 22, 24,  4,  8, 22,  1, 19, 17, 12, 13, 20,\n",
       "       26, 17, 19, 19,  3, 14, 10,  1, 12,  3, 19, 25,  9, 21, 10, 19, 10,\n",
       "       24,  7, 22, 16, 11,  2,  7,  3, 26, 11,  2,  1,  2,  5, 24,  8, 19,\n",
       "       12,  2, 12,  9, 23, 25, 21, 14,  5, 14,  9, 13, 12, 22, 18, 15, 26,\n",
       "       22,  6,  6, 20, 23,  6,  7,  6, 20, 17, 21,  2, 15,  6,  9, 13, 12,\n",
       "       21])"
      ]
     },
     "execution_count": 24,
     "metadata": {},
     "output_type": "execute_result"
    }
   ],
   "source": [
    "y_train"
   ]
  },
  {
   "cell_type": "code",
   "execution_count": 21,
   "metadata": {},
   "outputs": [
    {
     "name": "stdout",
     "output_type": "stream",
     "text": [
      "Loaded features from E:\\MSC\\Spring\\AML\\GestureLink\\data\\G\\windowed_data\\feature_matrix.npy, shape: (150, 59, 15, 7)\n",
      "Loaded labels from E:\\MSC\\Spring\\AML\\GestureLink\\data\\G\\windowed_data\\labels.npy, shape: (150,)\n",
      "Training set: X_train: (120, 59, 15, 7), y_train: (120,)\n",
      "Testing set: X_test: (30, 59, 15, 7), y_test: (30,)\n",
      "Corrected Classes: 26, Batches: 120, Windows: 59, Features: 15, Channels: 7\n",
      "X_train shape: (120, 59, 4, 1), y_train shape: (120, 26)\n",
      "X_test shape: (30, 59, 4, 1), y_test shape: (30, 26)\n",
      "Epoch 1/200\n",
      "15/15 [==============================] - 13s 212ms/step - loss: 3.2611 - accuracy: 0.0167 - val_loss: 3.2584 - val_accuracy: 0.0333\n",
      "Epoch 2/200\n",
      "15/15 [==============================] - 1s 64ms/step - loss: 3.2529 - accuracy: 0.0500 - val_loss: 3.2611 - val_accuracy: 0.0333\n",
      "Epoch 3/200\n",
      "15/15 [==============================] - 1s 74ms/step - loss: 3.2577 - accuracy: 0.0333 - val_loss: 3.2632 - val_accuracy: 0.0333\n",
      "Epoch 4/200\n",
      "15/15 [==============================] - 1s 69ms/step - loss: 3.2569 - accuracy: 0.0750 - val_loss: 3.2667 - val_accuracy: 0.0333\n",
      "Epoch 5/200\n",
      "15/15 [==============================] - 1s 70ms/step - loss: 3.2517 - accuracy: 0.0750 - val_loss: 3.2704 - val_accuracy: 0.0667\n",
      "Epoch 6/200\n",
      "15/15 [==============================] - 1s 73ms/step - loss: 3.2466 - accuracy: 0.0667 - val_loss: 3.2737 - val_accuracy: 0.0667\n",
      "Epoch 7/200\n",
      "15/15 [==============================] - 1s 78ms/step - loss: 3.2585 - accuracy: 0.0583 - val_loss: 3.2756 - val_accuracy: 0.0667\n",
      "Epoch 8/200\n",
      "15/15 [==============================] - 1s 68ms/step - loss: 3.2596 - accuracy: 0.0833 - val_loss: 3.2817 - val_accuracy: 0.0667\n",
      "Epoch 9/200\n",
      "15/15 [==============================] - 1s 75ms/step - loss: 3.2267 - accuracy: 0.0500 - val_loss: 3.2843 - val_accuracy: 0.0667\n",
      "Epoch 10/200\n",
      "15/15 [==============================] - 1s 72ms/step - loss: 3.2483 - accuracy: 0.0667 - val_loss: 3.2882 - val_accuracy: 0.0667\n",
      "Epoch 11/200\n",
      "15/15 [==============================] - 1s 78ms/step - loss: 3.2408 - accuracy: 0.0750 - val_loss: 3.2903 - val_accuracy: 0.0667\n",
      "Epoch 12/200\n",
      "15/15 [==============================] - 1s 72ms/step - loss: 3.2234 - accuracy: 0.0333 - val_loss: 3.2950 - val_accuracy: 0.0667\n",
      "Epoch 13/200\n",
      "15/15 [==============================] - 1s 68ms/step - loss: 3.2321 - accuracy: 0.0583 - val_loss: 3.2984 - val_accuracy: 0.0667\n",
      "Epoch 14/200\n",
      "15/15 [==============================] - 1s 69ms/step - loss: 3.2311 - accuracy: 0.0833 - val_loss: 3.3016 - val_accuracy: 0.0667\n",
      "Epoch 15/200\n",
      "15/15 [==============================] - 1s 70ms/step - loss: 3.2350 - accuracy: 0.0583 - val_loss: 3.3040 - val_accuracy: 0.0667\n",
      "Epoch 16/200\n",
      "15/15 [==============================] - 1s 70ms/step - loss: 3.2265 - accuracy: 0.0667 - val_loss: 3.3076 - val_accuracy: 0.0667\n",
      "Epoch 17/200\n",
      "15/15 [==============================] - 1s 69ms/step - loss: 3.2135 - accuracy: 0.0500 - val_loss: 3.3115 - val_accuracy: 0.0667\n",
      "Epoch 18/200\n",
      "15/15 [==============================] - 1s 68ms/step - loss: 3.2189 - accuracy: 0.0583 - val_loss: 3.3155 - val_accuracy: 0.0667\n",
      "Epoch 19/200\n",
      "15/15 [==============================] - 1s 69ms/step - loss: 3.2195 - accuracy: 0.0667 - val_loss: 3.3207 - val_accuracy: 0.0333\n",
      "Epoch 20/200\n",
      "15/15 [==============================] - 1s 68ms/step - loss: 3.2171 - accuracy: 0.0583 - val_loss: 3.3252 - val_accuracy: 0.0333\n",
      "Epoch 21/200\n",
      "15/15 [==============================] - 1s 67ms/step - loss: 3.2144 - accuracy: 0.0750 - val_loss: 3.3294 - val_accuracy: 0.0333\n",
      "Epoch 22/200\n",
      "15/15 [==============================] - 1s 71ms/step - loss: 3.2135 - accuracy: 0.0750 - val_loss: 3.3346 - val_accuracy: 0.0333\n",
      "Epoch 23/200\n",
      "15/15 [==============================] - 1s 70ms/step - loss: 3.1955 - accuracy: 0.0500 - val_loss: 3.3375 - val_accuracy: 0.0333\n",
      "Epoch 24/200\n",
      "15/15 [==============================] - 1s 70ms/step - loss: 3.2010 - accuracy: 0.0417 - val_loss: 3.3425 - val_accuracy: 0.0333\n",
      "Epoch 25/200\n",
      "15/15 [==============================] - 1s 69ms/step - loss: 3.1982 - accuracy: 0.0500 - val_loss: 3.3487 - val_accuracy: 0.0333\n",
      "Epoch 26/200\n",
      "15/15 [==============================] - 1s 63ms/step - loss: 3.1983 - accuracy: 0.0833 - val_loss: 3.3573 - val_accuracy: 0.0000e+00\n",
      "Epoch 27/200\n",
      "15/15 [==============================] - 1s 71ms/step - loss: 3.1863 - accuracy: 0.0750 - val_loss: 3.3667 - val_accuracy: 0.0000e+00\n",
      "Epoch 28/200\n",
      "15/15 [==============================] - 1s 70ms/step - loss: 3.1974 - accuracy: 0.0833 - val_loss: 3.3704 - val_accuracy: 0.0000e+00\n",
      "Epoch 29/200\n",
      "15/15 [==============================] - 1s 69ms/step - loss: 3.2025 - accuracy: 0.0417 - val_loss: 3.3702 - val_accuracy: 0.0000e+00\n",
      "Epoch 30/200\n",
      "15/15 [==============================] - 1s 64ms/step - loss: 3.2047 - accuracy: 0.0333 - val_loss: 3.3745 - val_accuracy: 0.0000e+00\n",
      "Epoch 31/200\n",
      "15/15 [==============================] - 1s 74ms/step - loss: 3.1781 - accuracy: 0.0750 - val_loss: 3.3785 - val_accuracy: 0.0000e+00\n",
      "Epoch 32/200\n",
      "15/15 [==============================] - 1s 68ms/step - loss: 3.1727 - accuracy: 0.0833 - val_loss: 3.3824 - val_accuracy: 0.0000e+00\n",
      "Epoch 33/200\n",
      "15/15 [==============================] - 1s 69ms/step - loss: 3.1717 - accuracy: 0.1000 - val_loss: 3.3923 - val_accuracy: 0.0000e+00\n",
      "Epoch 34/200\n",
      "15/15 [==============================] - 1s 68ms/step - loss: 3.1735 - accuracy: 0.0833 - val_loss: 3.3999 - val_accuracy: 0.0000e+00\n",
      "Epoch 35/200\n",
      "15/15 [==============================] - 1s 72ms/step - loss: 3.1751 - accuracy: 0.0667 - val_loss: 3.4047 - val_accuracy: 0.0000e+00\n",
      "Epoch 36/200\n",
      "15/15 [==============================] - 1s 65ms/step - loss: 3.1877 - accuracy: 0.0750 - val_loss: 3.4107 - val_accuracy: 0.0000e+00\n",
      "Epoch 37/200\n",
      "15/15 [==============================] - 1s 71ms/step - loss: 3.1765 - accuracy: 0.1167 - val_loss: 3.4131 - val_accuracy: 0.0000e+00\n",
      "Epoch 38/200\n",
      "15/15 [==============================] - 1s 67ms/step - loss: 3.1643 - accuracy: 0.0750 - val_loss: 3.4218 - val_accuracy: 0.0000e+00\n",
      "Epoch 39/200\n",
      "15/15 [==============================] - 1s 72ms/step - loss: 3.1460 - accuracy: 0.0917 - val_loss: 3.4297 - val_accuracy: 0.0000e+00\n",
      "Epoch 40/200\n",
      "15/15 [==============================] - 1s 67ms/step - loss: 3.1317 - accuracy: 0.0500 - val_loss: 3.4381 - val_accuracy: 0.0000e+00\n",
      "Epoch 41/200\n",
      "15/15 [==============================] - 1s 72ms/step - loss: 3.1447 - accuracy: 0.1000 - val_loss: 3.4430 - val_accuracy: 0.0000e+00\n",
      "Epoch 42/200\n",
      "15/15 [==============================] - 1s 65ms/step - loss: 3.1344 - accuracy: 0.0917 - val_loss: 3.4566 - val_accuracy: 0.0000e+00\n",
      "Epoch 43/200\n",
      "15/15 [==============================] - 1s 69ms/step - loss: 3.1418 - accuracy: 0.0750 - val_loss: 3.4658 - val_accuracy: 0.0000e+00\n",
      "Epoch 44/200\n",
      "15/15 [==============================] - 1s 72ms/step - loss: 3.1550 - accuracy: 0.0917 - val_loss: 3.4766 - val_accuracy: 0.0000e+00\n",
      "Epoch 45/200\n",
      "15/15 [==============================] - 1s 66ms/step - loss: 3.1412 - accuracy: 0.1333 - val_loss: 3.4837 - val_accuracy: 0.0000e+00\n",
      "Epoch 46/200\n",
      "15/15 [==============================] - 1s 73ms/step - loss: 3.1288 - accuracy: 0.0917 - val_loss: 3.4877 - val_accuracy: 0.0000e+00\n",
      "Epoch 47/200\n",
      "15/15 [==============================] - 1s 73ms/step - loss: 3.1345 - accuracy: 0.1083 - val_loss: 3.4907 - val_accuracy: 0.0000e+00\n",
      "Epoch 48/200\n",
      "15/15 [==============================] - 1s 67ms/step - loss: 3.1495 - accuracy: 0.0750 - val_loss: 3.4903 - val_accuracy: 0.0000e+00\n",
      "Epoch 49/200\n",
      "15/15 [==============================] - 1s 69ms/step - loss: 3.1277 - accuracy: 0.0750 - val_loss: 3.4952 - val_accuracy: 0.0000e+00\n",
      "Epoch 50/200\n",
      "15/15 [==============================] - 1s 69ms/step - loss: 3.1488 - accuracy: 0.0667 - val_loss: 3.5005 - val_accuracy: 0.0000e+00\n",
      "Epoch 51/200\n",
      "15/15 [==============================] - 1s 72ms/step - loss: 3.1341 - accuracy: 0.1083 - val_loss: 3.5063 - val_accuracy: 0.0000e+00\n",
      "Epoch 52/200\n",
      " 1/15 [=>............................] - ETA: 0s - loss: 3.0935 - accuracy: 0.0000e+00"
     ]
    },
    {
     "ename": "KeyboardInterrupt",
     "evalue": "",
     "output_type": "error",
     "traceback": [
      "\u001b[1;31m---------------------------------------------------------------------------\u001b[0m",
      "\u001b[1;31mKeyboardInterrupt\u001b[0m                         Traceback (most recent call last)",
      "Cell \u001b[1;32mIn[21], line 73\u001b[0m\n\u001b[0;32m     70\u001b[0m epochs \u001b[38;5;241m=\u001b[39m \u001b[38;5;241m200\u001b[39m\n\u001b[0;32m     71\u001b[0m batch_size \u001b[38;5;241m=\u001b[39m \u001b[38;5;241m8\u001b[39m\n\u001b[1;32m---> 73\u001b[0m history \u001b[38;5;241m=\u001b[39m \u001b[43mmodel\u001b[49m\u001b[38;5;241;43m.\u001b[39;49m\u001b[43mfit\u001b[49m\u001b[43m(\u001b[49m\n\u001b[0;32m     74\u001b[0m \u001b[43m    \u001b[49m\u001b[43mX_train\u001b[49m\u001b[43m,\u001b[49m\u001b[43m \u001b[49m\u001b[43my_train\u001b[49m\u001b[43m,\u001b[49m\n\u001b[0;32m     75\u001b[0m \u001b[43m    \u001b[49m\u001b[43mvalidation_data\u001b[49m\u001b[38;5;241;43m=\u001b[39;49m\u001b[43m(\u001b[49m\u001b[43mX_test\u001b[49m\u001b[43m,\u001b[49m\u001b[43m \u001b[49m\u001b[43my_test\u001b[49m\u001b[43m)\u001b[49m\u001b[43m,\u001b[49m\n\u001b[0;32m     76\u001b[0m \u001b[43m    \u001b[49m\u001b[43mepochs\u001b[49m\u001b[38;5;241;43m=\u001b[39;49m\u001b[43mepochs\u001b[49m\u001b[43m,\u001b[49m\n\u001b[0;32m     77\u001b[0m \u001b[43m    \u001b[49m\u001b[43mbatch_size\u001b[49m\u001b[38;5;241;43m=\u001b[39;49m\u001b[43mbatch_size\u001b[49m\u001b[43m,\u001b[49m\n\u001b[0;32m     78\u001b[0m \u001b[43m    \u001b[49m\u001b[43mverbose\u001b[49m\u001b[38;5;241;43m=\u001b[39;49m\u001b[38;5;241;43m1\u001b[39;49m\n\u001b[0;32m     79\u001b[0m \u001b[43m)\u001b[49m\n\u001b[0;32m     81\u001b[0m \u001b[38;5;66;03m# **测试模型**\u001b[39;00m\n\u001b[0;32m     82\u001b[0m y_pred \u001b[38;5;241m=\u001b[39m model\u001b[38;5;241m.\u001b[39mpredict(X_test)\n",
      "File \u001b[1;32md:\\MY_SOFTWARE\\Anaconda\\envs\\tensorflow\\lib\\site-packages\\keras\\utils\\traceback_utils.py:65\u001b[0m, in \u001b[0;36mfilter_traceback.<locals>.error_handler\u001b[1;34m(*args, **kwargs)\u001b[0m\n\u001b[0;32m     63\u001b[0m filtered_tb \u001b[39m=\u001b[39m \u001b[39mNone\u001b[39;00m\n\u001b[0;32m     64\u001b[0m \u001b[39mtry\u001b[39;00m:\n\u001b[1;32m---> 65\u001b[0m     \u001b[39mreturn\u001b[39;00m fn(\u001b[39m*\u001b[39margs, \u001b[39m*\u001b[39m\u001b[39m*\u001b[39mkwargs)\n\u001b[0;32m     66\u001b[0m \u001b[39mexcept\u001b[39;00m \u001b[39mException\u001b[39;00m \u001b[39mas\u001b[39;00m e:\n\u001b[0;32m     67\u001b[0m     filtered_tb \u001b[39m=\u001b[39m _process_traceback_frames(e\u001b[39m.\u001b[39m__traceback__)\n",
      "File \u001b[1;32md:\\MY_SOFTWARE\\Anaconda\\envs\\tensorflow\\lib\\site-packages\\keras\\engine\\training.py:1685\u001b[0m, in \u001b[0;36mModel.fit\u001b[1;34m(self, x, y, batch_size, epochs, verbose, callbacks, validation_split, validation_data, shuffle, class_weight, sample_weight, initial_epoch, steps_per_epoch, validation_steps, validation_batch_size, validation_freq, max_queue_size, workers, use_multiprocessing)\u001b[0m\n\u001b[0;32m   1677\u001b[0m \u001b[39mwith\u001b[39;00m tf\u001b[39m.\u001b[39mprofiler\u001b[39m.\u001b[39mexperimental\u001b[39m.\u001b[39mTrace(\n\u001b[0;32m   1678\u001b[0m     \u001b[39m\"\u001b[39m\u001b[39mtrain\u001b[39m\u001b[39m\"\u001b[39m,\n\u001b[0;32m   1679\u001b[0m     epoch_num\u001b[39m=\u001b[39mepoch,\n\u001b[1;32m   (...)\u001b[0m\n\u001b[0;32m   1682\u001b[0m     _r\u001b[39m=\u001b[39m\u001b[39m1\u001b[39m,\n\u001b[0;32m   1683\u001b[0m ):\n\u001b[0;32m   1684\u001b[0m     callbacks\u001b[39m.\u001b[39mon_train_batch_begin(step)\n\u001b[1;32m-> 1685\u001b[0m     tmp_logs \u001b[39m=\u001b[39m \u001b[39mself\u001b[39;49m\u001b[39m.\u001b[39;49mtrain_function(iterator)\n\u001b[0;32m   1686\u001b[0m     \u001b[39mif\u001b[39;00m data_handler\u001b[39m.\u001b[39mshould_sync:\n\u001b[0;32m   1687\u001b[0m         context\u001b[39m.\u001b[39masync_wait()\n",
      "File \u001b[1;32md:\\MY_SOFTWARE\\Anaconda\\envs\\tensorflow\\lib\\site-packages\\tensorflow\\python\\util\\traceback_utils.py:150\u001b[0m, in \u001b[0;36mfilter_traceback.<locals>.error_handler\u001b[1;34m(*args, **kwargs)\u001b[0m\n\u001b[0;32m    148\u001b[0m filtered_tb \u001b[39m=\u001b[39m \u001b[39mNone\u001b[39;00m\n\u001b[0;32m    149\u001b[0m \u001b[39mtry\u001b[39;00m:\n\u001b[1;32m--> 150\u001b[0m   \u001b[39mreturn\u001b[39;00m fn(\u001b[39m*\u001b[39margs, \u001b[39m*\u001b[39m\u001b[39m*\u001b[39mkwargs)\n\u001b[0;32m    151\u001b[0m \u001b[39mexcept\u001b[39;00m \u001b[39mException\u001b[39;00m \u001b[39mas\u001b[39;00m e:\n\u001b[0;32m    152\u001b[0m   filtered_tb \u001b[39m=\u001b[39m _process_traceback_frames(e\u001b[39m.\u001b[39m__traceback__)\n",
      "File \u001b[1;32md:\\MY_SOFTWARE\\Anaconda\\envs\\tensorflow\\lib\\site-packages\\tensorflow\\python\\eager\\polymorphic_function\\polymorphic_function.py:894\u001b[0m, in \u001b[0;36mFunction.__call__\u001b[1;34m(self, *args, **kwds)\u001b[0m\n\u001b[0;32m    891\u001b[0m compiler \u001b[39m=\u001b[39m \u001b[39m\"\u001b[39m\u001b[39mxla\u001b[39m\u001b[39m\"\u001b[39m \u001b[39mif\u001b[39;00m \u001b[39mself\u001b[39m\u001b[39m.\u001b[39m_jit_compile \u001b[39melse\u001b[39;00m \u001b[39m\"\u001b[39m\u001b[39mnonXla\u001b[39m\u001b[39m\"\u001b[39m\n\u001b[0;32m    893\u001b[0m \u001b[39mwith\u001b[39;00m OptionalXlaContext(\u001b[39mself\u001b[39m\u001b[39m.\u001b[39m_jit_compile):\n\u001b[1;32m--> 894\u001b[0m   result \u001b[39m=\u001b[39m \u001b[39mself\u001b[39m\u001b[39m.\u001b[39m_call(\u001b[39m*\u001b[39margs, \u001b[39m*\u001b[39m\u001b[39m*\u001b[39mkwds)\n\u001b[0;32m    896\u001b[0m new_tracing_count \u001b[39m=\u001b[39m \u001b[39mself\u001b[39m\u001b[39m.\u001b[39mexperimental_get_tracing_count()\n\u001b[0;32m    897\u001b[0m without_tracing \u001b[39m=\u001b[39m (tracing_count \u001b[39m==\u001b[39m new_tracing_count)\n",
      "File \u001b[1;32md:\\MY_SOFTWARE\\Anaconda\\envs\\tensorflow\\lib\\site-packages\\tensorflow\\python\\eager\\polymorphic_function\\polymorphic_function.py:926\u001b[0m, in \u001b[0;36mFunction._call\u001b[1;34m(self, *args, **kwds)\u001b[0m\n\u001b[0;32m    923\u001b[0m   \u001b[39mself\u001b[39m\u001b[39m.\u001b[39m_lock\u001b[39m.\u001b[39mrelease()\n\u001b[0;32m    924\u001b[0m   \u001b[39m# In this case we have created variables on the first call, so we run the\u001b[39;00m\n\u001b[0;32m    925\u001b[0m   \u001b[39m# defunned version which is guaranteed to never create variables.\u001b[39;00m\n\u001b[1;32m--> 926\u001b[0m   \u001b[39mreturn\u001b[39;00m \u001b[39mself\u001b[39m\u001b[39m.\u001b[39m_no_variable_creation_fn(\u001b[39m*\u001b[39margs, \u001b[39m*\u001b[39m\u001b[39m*\u001b[39mkwds)  \u001b[39m# pylint: disable=not-callable\u001b[39;00m\n\u001b[0;32m    927\u001b[0m \u001b[39melif\u001b[39;00m \u001b[39mself\u001b[39m\u001b[39m.\u001b[39m_variable_creation_fn \u001b[39mis\u001b[39;00m \u001b[39mnot\u001b[39;00m \u001b[39mNone\u001b[39;00m:\n\u001b[0;32m    928\u001b[0m   \u001b[39m# Release the lock early so that multiple threads can perform the call\u001b[39;00m\n\u001b[0;32m    929\u001b[0m   \u001b[39m# in parallel.\u001b[39;00m\n\u001b[0;32m    930\u001b[0m   \u001b[39mself\u001b[39m\u001b[39m.\u001b[39m_lock\u001b[39m.\u001b[39mrelease()\n",
      "File \u001b[1;32md:\\MY_SOFTWARE\\Anaconda\\envs\\tensorflow\\lib\\site-packages\\tensorflow\\python\\eager\\polymorphic_function\\tracing_compiler.py:143\u001b[0m, in \u001b[0;36mTracingCompiler.__call__\u001b[1;34m(self, *args, **kwargs)\u001b[0m\n\u001b[0;32m    140\u001b[0m \u001b[39mwith\u001b[39;00m \u001b[39mself\u001b[39m\u001b[39m.\u001b[39m_lock:\n\u001b[0;32m    141\u001b[0m   (concrete_function,\n\u001b[0;32m    142\u001b[0m    filtered_flat_args) \u001b[39m=\u001b[39m \u001b[39mself\u001b[39m\u001b[39m.\u001b[39m_maybe_define_function(args, kwargs)\n\u001b[1;32m--> 143\u001b[0m \u001b[39mreturn\u001b[39;00m concrete_function\u001b[39m.\u001b[39;49m_call_flat(\n\u001b[0;32m    144\u001b[0m     filtered_flat_args, captured_inputs\u001b[39m=\u001b[39;49mconcrete_function\u001b[39m.\u001b[39;49mcaptured_inputs)\n",
      "File \u001b[1;32md:\\MY_SOFTWARE\\Anaconda\\envs\\tensorflow\\lib\\site-packages\\tensorflow\\python\\eager\\polymorphic_function\\monomorphic_function.py:1757\u001b[0m, in \u001b[0;36mConcreteFunction._call_flat\u001b[1;34m(self, args, captured_inputs, cancellation_manager)\u001b[0m\n\u001b[0;32m   1753\u001b[0m possible_gradient_type \u001b[39m=\u001b[39m gradients_util\u001b[39m.\u001b[39mPossibleTapeGradientTypes(args)\n\u001b[0;32m   1754\u001b[0m \u001b[39mif\u001b[39;00m (possible_gradient_type \u001b[39m==\u001b[39m gradients_util\u001b[39m.\u001b[39mPOSSIBLE_GRADIENT_TYPES_NONE\n\u001b[0;32m   1755\u001b[0m     \u001b[39mand\u001b[39;00m executing_eagerly):\n\u001b[0;32m   1756\u001b[0m   \u001b[39m# No tape is watching; skip to running the function.\u001b[39;00m\n\u001b[1;32m-> 1757\u001b[0m   \u001b[39mreturn\u001b[39;00m \u001b[39mself\u001b[39m\u001b[39m.\u001b[39m_build_call_outputs(\u001b[39mself\u001b[39;49m\u001b[39m.\u001b[39;49m_inference_function\u001b[39m.\u001b[39;49mcall(\n\u001b[0;32m   1758\u001b[0m       ctx, args, cancellation_manager\u001b[39m=\u001b[39;49mcancellation_manager))\n\u001b[0;32m   1759\u001b[0m forward_backward \u001b[39m=\u001b[39m \u001b[39mself\u001b[39m\u001b[39m.\u001b[39m_select_forward_and_backward_functions(\n\u001b[0;32m   1760\u001b[0m     args,\n\u001b[0;32m   1761\u001b[0m     possible_gradient_type,\n\u001b[0;32m   1762\u001b[0m     executing_eagerly)\n\u001b[0;32m   1763\u001b[0m forward_function, args_with_tangents \u001b[39m=\u001b[39m forward_backward\u001b[39m.\u001b[39mforward()\n",
      "File \u001b[1;32md:\\MY_SOFTWARE\\Anaconda\\envs\\tensorflow\\lib\\site-packages\\tensorflow\\python\\eager\\polymorphic_function\\monomorphic_function.py:381\u001b[0m, in \u001b[0;36m_EagerDefinedFunction.call\u001b[1;34m(self, ctx, args, cancellation_manager)\u001b[0m\n\u001b[0;32m    379\u001b[0m \u001b[39mwith\u001b[39;00m _InterpolateFunctionError(\u001b[39mself\u001b[39m):\n\u001b[0;32m    380\u001b[0m   \u001b[39mif\u001b[39;00m cancellation_manager \u001b[39mis\u001b[39;00m \u001b[39mNone\u001b[39;00m:\n\u001b[1;32m--> 381\u001b[0m     outputs \u001b[39m=\u001b[39m execute\u001b[39m.\u001b[39;49mexecute(\n\u001b[0;32m    382\u001b[0m         \u001b[39mstr\u001b[39;49m(\u001b[39mself\u001b[39;49m\u001b[39m.\u001b[39;49msignature\u001b[39m.\u001b[39;49mname),\n\u001b[0;32m    383\u001b[0m         num_outputs\u001b[39m=\u001b[39;49m\u001b[39mself\u001b[39;49m\u001b[39m.\u001b[39;49m_num_outputs,\n\u001b[0;32m    384\u001b[0m         inputs\u001b[39m=\u001b[39;49margs,\n\u001b[0;32m    385\u001b[0m         attrs\u001b[39m=\u001b[39;49mattrs,\n\u001b[0;32m    386\u001b[0m         ctx\u001b[39m=\u001b[39;49mctx)\n\u001b[0;32m    387\u001b[0m   \u001b[39melse\u001b[39;00m:\n\u001b[0;32m    388\u001b[0m     outputs \u001b[39m=\u001b[39m execute\u001b[39m.\u001b[39mexecute_with_cancellation(\n\u001b[0;32m    389\u001b[0m         \u001b[39mstr\u001b[39m(\u001b[39mself\u001b[39m\u001b[39m.\u001b[39msignature\u001b[39m.\u001b[39mname),\n\u001b[0;32m    390\u001b[0m         num_outputs\u001b[39m=\u001b[39m\u001b[39mself\u001b[39m\u001b[39m.\u001b[39m_num_outputs,\n\u001b[1;32m   (...)\u001b[0m\n\u001b[0;32m    393\u001b[0m         ctx\u001b[39m=\u001b[39mctx,\n\u001b[0;32m    394\u001b[0m         cancellation_manager\u001b[39m=\u001b[39mcancellation_manager)\n",
      "File \u001b[1;32md:\\MY_SOFTWARE\\Anaconda\\envs\\tensorflow\\lib\\site-packages\\tensorflow\\python\\eager\\execute.py:52\u001b[0m, in \u001b[0;36mquick_execute\u001b[1;34m(op_name, num_outputs, inputs, attrs, ctx, name)\u001b[0m\n\u001b[0;32m     50\u001b[0m \u001b[39mtry\u001b[39;00m:\n\u001b[0;32m     51\u001b[0m   ctx\u001b[39m.\u001b[39mensure_initialized()\n\u001b[1;32m---> 52\u001b[0m   tensors \u001b[39m=\u001b[39m pywrap_tfe\u001b[39m.\u001b[39;49mTFE_Py_Execute(ctx\u001b[39m.\u001b[39;49m_handle, device_name, op_name,\n\u001b[0;32m     53\u001b[0m                                       inputs, attrs, num_outputs)\n\u001b[0;32m     54\u001b[0m \u001b[39mexcept\u001b[39;00m core\u001b[39m.\u001b[39m_NotOkStatusException \u001b[39mas\u001b[39;00m e:\n\u001b[0;32m     55\u001b[0m   \u001b[39mif\u001b[39;00m name \u001b[39mis\u001b[39;00m \u001b[39mnot\u001b[39;00m \u001b[39mNone\u001b[39;00m:\n",
      "\u001b[1;31mKeyboardInterrupt\u001b[0m: "
     ]
    }
   ],
   "source": [
    "import numpy as np\n",
    "import tensorflow as tf\n",
    "from tensorflow.keras.models import Sequential\n",
    "from tensorflow.keras.layers import LSTM, Dense, Dropout, TimeDistributed, Conv1D, Flatten\n",
    "from tensorflow.keras.optimizers import Adam\n",
    "from sklearn.metrics import accuracy_score\n",
    "from sklearn.preprocessing import LabelEncoder\n",
    "from tensorflow.keras.utils import to_categorical\n",
    "\n",
    "# **加载数据**\n",
    "data_folder = r\"E:\\MSC\\Spring\\AML\\GestureLink\\data\\G\\windowed_data\"\n",
    "X_train, X_test, y_train, y_test = load_data(data_folder)\n",
    "X_train = np.nan_to_num(X_train, nan=0.0)\n",
    "X_test = np.nan_to_num(X_test, nan=0.0)\n",
    "y_train = np.nan_to_num(y_train, nan = 0.0)\n",
    "y_test = np.nan_to_num(y_test, nan = 0.0)\n",
    "# **获取数据形状**\n",
    "num_batches = X_train.shape[0]  # batch 维度\n",
    "num_windows = X_train.shape[1]  # 时间步（窗口数 59）\n",
    "num_features = X_train.shape[2]  # 特征数（15）\n",
    "num_channels = X_train.shape[3]  # 通道数（1）\n",
    "\n",
    "# **检测类别数量**\n",
    "unique_classes = np.unique(y_train)\n",
    "num_classes = len(unique_classes)  # 确保类别数正确\n",
    "\n",
    "print(f\"Corrected Classes: {num_classes}, Batches: {num_batches}, Windows: {num_windows}, Features: {num_features}, Channels: {num_channels}\")\n",
    "\n",
    "# **保持 X 形状**\n",
    "X_train = X_train.reshape(num_batches, num_windows, num_features, num_channels)\n",
    "X_test = X_test.reshape(X_test.shape[0], num_windows, num_features, num_channels)\n",
    "X_train = X_train[:,:,:4,:1]\n",
    "X_test = X_test[:,:,:4,:1]\n",
    "\n",
    "\n",
    "\n",
    "# print(X_train.shape)\n",
    "\n",
    "num_features = X_train.shape[2] \n",
    "num_channels = X_train.shape[3]\n",
    "# **标签编码**\n",
    "encoder = LabelEncoder()\n",
    "y_train = encoder.fit_transform(y_train)  # 转换成 0,1,2\n",
    "y_test = encoder.transform(y_test)\n",
    "\n",
    "# **转换为 One-Hot**\n",
    "y_train = to_categorical(y_train, num_classes=num_classes)\n",
    "y_test = to_categorical(y_test, num_classes=num_classes)\n",
    "\n",
    "print(f\"X_train shape: {X_train.shape}, y_train shape: {y_train.shape}\")  # (batch, 59, 15, 1) (batch, 3)\n",
    "print(f\"X_test shape: {X_test.shape}, y_test shape: {y_test.shape}\")  # (batch, 59, 15, 1) (batch, 3)\n",
    "\n",
    "# print(num_features)\n",
    "# **构建 LSTM 处理通道的模型**\n",
    "model = Sequential([\n",
    "    TimeDistributed(Conv1D(filters=16, kernel_size=3, activation='relu'), input_shape=(num_windows, num_features, num_channels)),  # 1D CNN 提取局部特征\n",
    "    TimeDistributed(Flatten()),  # 压缩通道\n",
    "    LSTM(64, return_sequences=True),\n",
    "    Dropout(0.3),\n",
    "    LSTM(32, return_sequences=False),\n",
    "    Dropout(0.3),\n",
    "    Dense(32, activation='relu'),\n",
    "    Dense(num_classes, activation='softmax')  # 多分类\n",
    "])\n",
    "\n",
    "# **编译模型**\n",
    "model.compile(optimizer=Adam(learning_rate=0.0001), loss='categorical_crossentropy', metrics=['accuracy'])\n",
    "\n",
    "# **训练模型**\n",
    "epochs = 200\n",
    "batch_size = 8\n",
    "\n",
    "history = model.fit(\n",
    "    X_train, y_train,\n",
    "    validation_data=(X_test, y_test),\n",
    "    epochs=epochs,\n",
    "    batch_size=batch_size,\n",
    "    verbose=1\n",
    ")\n",
    "\n",
    "# **测试模型**\n",
    "y_pred = model.predict(X_test)\n",
    "y_pred_classes = np.argmax(y_pred, axis=1)\n",
    "y_test_classes = np.argmax(y_test, axis=1)\n",
    "\n",
    "# **计算准确率**\n",
    "accuracy = accuracy_score(y_test_classes, y_pred_classes)\n",
    "print(f\"Test Accuracy: {accuracy:.4f}\")\n",
    "\n",
    "# **保存模型**\n",
    "# model.save(\"rnn_emg_model.h5\")\n",
    "# print(\"Model saved as rnn_emg_model.h5\")\n"
   ]
  },
  {
   "cell_type": "code",
   "execution_count": 4,
   "metadata": {},
   "outputs": [
    {
     "name": "stdout",
     "output_type": "stream",
     "text": [
      "Epoch 1/200\n",
      "39/39 [==============================] - 7s 59ms/step - loss: 2.9775 - accuracy: 0.1122 - val_loss: 4.0560 - val_accuracy: 0.0385\n",
      "Epoch 2/200\n",
      "39/39 [==============================] - 1s 33ms/step - loss: 3.0157 - accuracy: 0.0962 - val_loss: 3.8993 - val_accuracy: 0.0256\n",
      "Epoch 3/200\n",
      "39/39 [==============================] - 1s 31ms/step - loss: 2.9761 - accuracy: 0.1058 - val_loss: 3.9837 - val_accuracy: 0.0385\n",
      "Epoch 4/200\n",
      "39/39 [==============================] - 1s 35ms/step - loss: 2.9929 - accuracy: 0.0897 - val_loss: 3.9803 - val_accuracy: 0.0256\n",
      "Epoch 5/200\n",
      "39/39 [==============================] - 1s 34ms/step - loss: 3.0069 - accuracy: 0.0577 - val_loss: 3.9710 - val_accuracy: 0.0256\n",
      "Epoch 6/200\n",
      "39/39 [==============================] - 1s 34ms/step - loss: 3.0061 - accuracy: 0.0801 - val_loss: 3.9995 - val_accuracy: 0.0256\n",
      "Epoch 7/200\n",
      "39/39 [==============================] - 1s 38ms/step - loss: 2.9735 - accuracy: 0.0673 - val_loss: 4.0288 - val_accuracy: 0.0385\n",
      "Epoch 8/200\n",
      "35/39 [=========================>....] - ETA: 0s - loss: 2.9749 - accuracy: 0.0786"
     ]
    },
    {
     "ename": "KeyboardInterrupt",
     "evalue": "",
     "output_type": "error",
     "traceback": [
      "\u001b[1;31m---------------------------------------------------------------------------\u001b[0m",
      "\u001b[1;31mKeyboardInterrupt\u001b[0m                         Traceback (most recent call last)",
      "Cell \u001b[1;32mIn[4], line 7\u001b[0m\n\u001b[0;32m      4\u001b[0m epochs \u001b[38;5;241m=\u001b[39m \u001b[38;5;241m200\u001b[39m\n\u001b[0;32m      5\u001b[0m batch_size \u001b[38;5;241m=\u001b[39m \u001b[38;5;241m8\u001b[39m\n\u001b[1;32m----> 7\u001b[0m history \u001b[38;5;241m=\u001b[39m \u001b[43mmodel\u001b[49m\u001b[38;5;241;43m.\u001b[39;49m\u001b[43mfit\u001b[49m\u001b[43m(\u001b[49m\n\u001b[0;32m      8\u001b[0m \u001b[43m    \u001b[49m\u001b[43mX_train\u001b[49m\u001b[43m,\u001b[49m\u001b[43m \u001b[49m\u001b[43my_train\u001b[49m\u001b[43m,\u001b[49m\n\u001b[0;32m      9\u001b[0m \u001b[43m    \u001b[49m\u001b[43mvalidation_data\u001b[49m\u001b[38;5;241;43m=\u001b[39;49m\u001b[43m(\u001b[49m\u001b[43mX_test\u001b[49m\u001b[43m,\u001b[49m\u001b[43m \u001b[49m\u001b[43my_test\u001b[49m\u001b[43m)\u001b[49m\u001b[43m,\u001b[49m\n\u001b[0;32m     10\u001b[0m \u001b[43m    \u001b[49m\u001b[43mepochs\u001b[49m\u001b[38;5;241;43m=\u001b[39;49m\u001b[43mepochs\u001b[49m\u001b[43m,\u001b[49m\n\u001b[0;32m     11\u001b[0m \u001b[43m    \u001b[49m\u001b[43mbatch_size\u001b[49m\u001b[38;5;241;43m=\u001b[39;49m\u001b[43mbatch_size\u001b[49m\u001b[43m,\u001b[49m\n\u001b[0;32m     12\u001b[0m \u001b[43m    \u001b[49m\u001b[43mverbose\u001b[49m\u001b[38;5;241;43m=\u001b[39;49m\u001b[38;5;241;43m1\u001b[39;49m\n\u001b[0;32m     13\u001b[0m \u001b[43m)\u001b[49m\n\u001b[0;32m     15\u001b[0m \u001b[38;5;66;03m# **测试模型**\u001b[39;00m\n\u001b[0;32m     16\u001b[0m y_pred \u001b[38;5;241m=\u001b[39m model\u001b[38;5;241m.\u001b[39mpredict(X_test)\n",
      "File \u001b[1;32md:\\MY_SOFTWARE\\Anaconda\\envs\\tensorflow\\lib\\site-packages\\keras\\utils\\traceback_utils.py:65\u001b[0m, in \u001b[0;36mfilter_traceback.<locals>.error_handler\u001b[1;34m(*args, **kwargs)\u001b[0m\n\u001b[0;32m     63\u001b[0m filtered_tb \u001b[39m=\u001b[39m \u001b[39mNone\u001b[39;00m\n\u001b[0;32m     64\u001b[0m \u001b[39mtry\u001b[39;00m:\n\u001b[1;32m---> 65\u001b[0m     \u001b[39mreturn\u001b[39;00m fn(\u001b[39m*\u001b[39margs, \u001b[39m*\u001b[39m\u001b[39m*\u001b[39mkwargs)\n\u001b[0;32m     66\u001b[0m \u001b[39mexcept\u001b[39;00m \u001b[39mException\u001b[39;00m \u001b[39mas\u001b[39;00m e:\n\u001b[0;32m     67\u001b[0m     filtered_tb \u001b[39m=\u001b[39m _process_traceback_frames(e\u001b[39m.\u001b[39m__traceback__)\n",
      "File \u001b[1;32md:\\MY_SOFTWARE\\Anaconda\\envs\\tensorflow\\lib\\site-packages\\keras\\engine\\training.py:1685\u001b[0m, in \u001b[0;36mModel.fit\u001b[1;34m(self, x, y, batch_size, epochs, verbose, callbacks, validation_split, validation_data, shuffle, class_weight, sample_weight, initial_epoch, steps_per_epoch, validation_steps, validation_batch_size, validation_freq, max_queue_size, workers, use_multiprocessing)\u001b[0m\n\u001b[0;32m   1677\u001b[0m \u001b[39mwith\u001b[39;00m tf\u001b[39m.\u001b[39mprofiler\u001b[39m.\u001b[39mexperimental\u001b[39m.\u001b[39mTrace(\n\u001b[0;32m   1678\u001b[0m     \u001b[39m\"\u001b[39m\u001b[39mtrain\u001b[39m\u001b[39m\"\u001b[39m,\n\u001b[0;32m   1679\u001b[0m     epoch_num\u001b[39m=\u001b[39mepoch,\n\u001b[1;32m   (...)\u001b[0m\n\u001b[0;32m   1682\u001b[0m     _r\u001b[39m=\u001b[39m\u001b[39m1\u001b[39m,\n\u001b[0;32m   1683\u001b[0m ):\n\u001b[0;32m   1684\u001b[0m     callbacks\u001b[39m.\u001b[39mon_train_batch_begin(step)\n\u001b[1;32m-> 1685\u001b[0m     tmp_logs \u001b[39m=\u001b[39m \u001b[39mself\u001b[39;49m\u001b[39m.\u001b[39;49mtrain_function(iterator)\n\u001b[0;32m   1686\u001b[0m     \u001b[39mif\u001b[39;00m data_handler\u001b[39m.\u001b[39mshould_sync:\n\u001b[0;32m   1687\u001b[0m         context\u001b[39m.\u001b[39masync_wait()\n",
      "File \u001b[1;32md:\\MY_SOFTWARE\\Anaconda\\envs\\tensorflow\\lib\\site-packages\\tensorflow\\python\\util\\traceback_utils.py:150\u001b[0m, in \u001b[0;36mfilter_traceback.<locals>.error_handler\u001b[1;34m(*args, **kwargs)\u001b[0m\n\u001b[0;32m    148\u001b[0m filtered_tb \u001b[39m=\u001b[39m \u001b[39mNone\u001b[39;00m\n\u001b[0;32m    149\u001b[0m \u001b[39mtry\u001b[39;00m:\n\u001b[1;32m--> 150\u001b[0m   \u001b[39mreturn\u001b[39;00m fn(\u001b[39m*\u001b[39margs, \u001b[39m*\u001b[39m\u001b[39m*\u001b[39mkwargs)\n\u001b[0;32m    151\u001b[0m \u001b[39mexcept\u001b[39;00m \u001b[39mException\u001b[39;00m \u001b[39mas\u001b[39;00m e:\n\u001b[0;32m    152\u001b[0m   filtered_tb \u001b[39m=\u001b[39m _process_traceback_frames(e\u001b[39m.\u001b[39m__traceback__)\n",
      "File \u001b[1;32md:\\MY_SOFTWARE\\Anaconda\\envs\\tensorflow\\lib\\site-packages\\tensorflow\\python\\eager\\polymorphic_function\\polymorphic_function.py:894\u001b[0m, in \u001b[0;36mFunction.__call__\u001b[1;34m(self, *args, **kwds)\u001b[0m\n\u001b[0;32m    891\u001b[0m compiler \u001b[39m=\u001b[39m \u001b[39m\"\u001b[39m\u001b[39mxla\u001b[39m\u001b[39m\"\u001b[39m \u001b[39mif\u001b[39;00m \u001b[39mself\u001b[39m\u001b[39m.\u001b[39m_jit_compile \u001b[39melse\u001b[39;00m \u001b[39m\"\u001b[39m\u001b[39mnonXla\u001b[39m\u001b[39m\"\u001b[39m\n\u001b[0;32m    893\u001b[0m \u001b[39mwith\u001b[39;00m OptionalXlaContext(\u001b[39mself\u001b[39m\u001b[39m.\u001b[39m_jit_compile):\n\u001b[1;32m--> 894\u001b[0m   result \u001b[39m=\u001b[39m \u001b[39mself\u001b[39m\u001b[39m.\u001b[39m_call(\u001b[39m*\u001b[39margs, \u001b[39m*\u001b[39m\u001b[39m*\u001b[39mkwds)\n\u001b[0;32m    896\u001b[0m new_tracing_count \u001b[39m=\u001b[39m \u001b[39mself\u001b[39m\u001b[39m.\u001b[39mexperimental_get_tracing_count()\n\u001b[0;32m    897\u001b[0m without_tracing \u001b[39m=\u001b[39m (tracing_count \u001b[39m==\u001b[39m new_tracing_count)\n",
      "File \u001b[1;32md:\\MY_SOFTWARE\\Anaconda\\envs\\tensorflow\\lib\\site-packages\\tensorflow\\python\\eager\\polymorphic_function\\polymorphic_function.py:926\u001b[0m, in \u001b[0;36mFunction._call\u001b[1;34m(self, *args, **kwds)\u001b[0m\n\u001b[0;32m    923\u001b[0m   \u001b[39mself\u001b[39m\u001b[39m.\u001b[39m_lock\u001b[39m.\u001b[39mrelease()\n\u001b[0;32m    924\u001b[0m   \u001b[39m# In this case we have created variables on the first call, so we run the\u001b[39;00m\n\u001b[0;32m    925\u001b[0m   \u001b[39m# defunned version which is guaranteed to never create variables.\u001b[39;00m\n\u001b[1;32m--> 926\u001b[0m   \u001b[39mreturn\u001b[39;00m \u001b[39mself\u001b[39m\u001b[39m.\u001b[39m_no_variable_creation_fn(\u001b[39m*\u001b[39margs, \u001b[39m*\u001b[39m\u001b[39m*\u001b[39mkwds)  \u001b[39m# pylint: disable=not-callable\u001b[39;00m\n\u001b[0;32m    927\u001b[0m \u001b[39melif\u001b[39;00m \u001b[39mself\u001b[39m\u001b[39m.\u001b[39m_variable_creation_fn \u001b[39mis\u001b[39;00m \u001b[39mnot\u001b[39;00m \u001b[39mNone\u001b[39;00m:\n\u001b[0;32m    928\u001b[0m   \u001b[39m# Release the lock early so that multiple threads can perform the call\u001b[39;00m\n\u001b[0;32m    929\u001b[0m   \u001b[39m# in parallel.\u001b[39;00m\n\u001b[0;32m    930\u001b[0m   \u001b[39mself\u001b[39m\u001b[39m.\u001b[39m_lock\u001b[39m.\u001b[39mrelease()\n",
      "File \u001b[1;32md:\\MY_SOFTWARE\\Anaconda\\envs\\tensorflow\\lib\\site-packages\\tensorflow\\python\\eager\\polymorphic_function\\tracing_compiler.py:143\u001b[0m, in \u001b[0;36mTracingCompiler.__call__\u001b[1;34m(self, *args, **kwargs)\u001b[0m\n\u001b[0;32m    140\u001b[0m \u001b[39mwith\u001b[39;00m \u001b[39mself\u001b[39m\u001b[39m.\u001b[39m_lock:\n\u001b[0;32m    141\u001b[0m   (concrete_function,\n\u001b[0;32m    142\u001b[0m    filtered_flat_args) \u001b[39m=\u001b[39m \u001b[39mself\u001b[39m\u001b[39m.\u001b[39m_maybe_define_function(args, kwargs)\n\u001b[1;32m--> 143\u001b[0m \u001b[39mreturn\u001b[39;00m concrete_function\u001b[39m.\u001b[39;49m_call_flat(\n\u001b[0;32m    144\u001b[0m     filtered_flat_args, captured_inputs\u001b[39m=\u001b[39;49mconcrete_function\u001b[39m.\u001b[39;49mcaptured_inputs)\n",
      "File \u001b[1;32md:\\MY_SOFTWARE\\Anaconda\\envs\\tensorflow\\lib\\site-packages\\tensorflow\\python\\eager\\polymorphic_function\\monomorphic_function.py:1757\u001b[0m, in \u001b[0;36mConcreteFunction._call_flat\u001b[1;34m(self, args, captured_inputs, cancellation_manager)\u001b[0m\n\u001b[0;32m   1753\u001b[0m possible_gradient_type \u001b[39m=\u001b[39m gradients_util\u001b[39m.\u001b[39mPossibleTapeGradientTypes(args)\n\u001b[0;32m   1754\u001b[0m \u001b[39mif\u001b[39;00m (possible_gradient_type \u001b[39m==\u001b[39m gradients_util\u001b[39m.\u001b[39mPOSSIBLE_GRADIENT_TYPES_NONE\n\u001b[0;32m   1755\u001b[0m     \u001b[39mand\u001b[39;00m executing_eagerly):\n\u001b[0;32m   1756\u001b[0m   \u001b[39m# No tape is watching; skip to running the function.\u001b[39;00m\n\u001b[1;32m-> 1757\u001b[0m   \u001b[39mreturn\u001b[39;00m \u001b[39mself\u001b[39m\u001b[39m.\u001b[39m_build_call_outputs(\u001b[39mself\u001b[39;49m\u001b[39m.\u001b[39;49m_inference_function\u001b[39m.\u001b[39;49mcall(\n\u001b[0;32m   1758\u001b[0m       ctx, args, cancellation_manager\u001b[39m=\u001b[39;49mcancellation_manager))\n\u001b[0;32m   1759\u001b[0m forward_backward \u001b[39m=\u001b[39m \u001b[39mself\u001b[39m\u001b[39m.\u001b[39m_select_forward_and_backward_functions(\n\u001b[0;32m   1760\u001b[0m     args,\n\u001b[0;32m   1761\u001b[0m     possible_gradient_type,\n\u001b[0;32m   1762\u001b[0m     executing_eagerly)\n\u001b[0;32m   1763\u001b[0m forward_function, args_with_tangents \u001b[39m=\u001b[39m forward_backward\u001b[39m.\u001b[39mforward()\n",
      "File \u001b[1;32md:\\MY_SOFTWARE\\Anaconda\\envs\\tensorflow\\lib\\site-packages\\tensorflow\\python\\eager\\polymorphic_function\\monomorphic_function.py:381\u001b[0m, in \u001b[0;36m_EagerDefinedFunction.call\u001b[1;34m(self, ctx, args, cancellation_manager)\u001b[0m\n\u001b[0;32m    379\u001b[0m \u001b[39mwith\u001b[39;00m _InterpolateFunctionError(\u001b[39mself\u001b[39m):\n\u001b[0;32m    380\u001b[0m   \u001b[39mif\u001b[39;00m cancellation_manager \u001b[39mis\u001b[39;00m \u001b[39mNone\u001b[39;00m:\n\u001b[1;32m--> 381\u001b[0m     outputs \u001b[39m=\u001b[39m execute\u001b[39m.\u001b[39;49mexecute(\n\u001b[0;32m    382\u001b[0m         \u001b[39mstr\u001b[39;49m(\u001b[39mself\u001b[39;49m\u001b[39m.\u001b[39;49msignature\u001b[39m.\u001b[39;49mname),\n\u001b[0;32m    383\u001b[0m         num_outputs\u001b[39m=\u001b[39;49m\u001b[39mself\u001b[39;49m\u001b[39m.\u001b[39;49m_num_outputs,\n\u001b[0;32m    384\u001b[0m         inputs\u001b[39m=\u001b[39;49margs,\n\u001b[0;32m    385\u001b[0m         attrs\u001b[39m=\u001b[39;49mattrs,\n\u001b[0;32m    386\u001b[0m         ctx\u001b[39m=\u001b[39;49mctx)\n\u001b[0;32m    387\u001b[0m   \u001b[39melse\u001b[39;00m:\n\u001b[0;32m    388\u001b[0m     outputs \u001b[39m=\u001b[39m execute\u001b[39m.\u001b[39mexecute_with_cancellation(\n\u001b[0;32m    389\u001b[0m         \u001b[39mstr\u001b[39m(\u001b[39mself\u001b[39m\u001b[39m.\u001b[39msignature\u001b[39m.\u001b[39mname),\n\u001b[0;32m    390\u001b[0m         num_outputs\u001b[39m=\u001b[39m\u001b[39mself\u001b[39m\u001b[39m.\u001b[39m_num_outputs,\n\u001b[1;32m   (...)\u001b[0m\n\u001b[0;32m    393\u001b[0m         ctx\u001b[39m=\u001b[39mctx,\n\u001b[0;32m    394\u001b[0m         cancellation_manager\u001b[39m=\u001b[39mcancellation_manager)\n",
      "File \u001b[1;32md:\\MY_SOFTWARE\\Anaconda\\envs\\tensorflow\\lib\\site-packages\\tensorflow\\python\\eager\\execute.py:52\u001b[0m, in \u001b[0;36mquick_execute\u001b[1;34m(op_name, num_outputs, inputs, attrs, ctx, name)\u001b[0m\n\u001b[0;32m     50\u001b[0m \u001b[39mtry\u001b[39;00m:\n\u001b[0;32m     51\u001b[0m   ctx\u001b[39m.\u001b[39mensure_initialized()\n\u001b[1;32m---> 52\u001b[0m   tensors \u001b[39m=\u001b[39m pywrap_tfe\u001b[39m.\u001b[39;49mTFE_Py_Execute(ctx\u001b[39m.\u001b[39;49m_handle, device_name, op_name,\n\u001b[0;32m     53\u001b[0m                                       inputs, attrs, num_outputs)\n\u001b[0;32m     54\u001b[0m \u001b[39mexcept\u001b[39;00m core\u001b[39m.\u001b[39m_NotOkStatusException \u001b[39mas\u001b[39;00m e:\n\u001b[0;32m     55\u001b[0m   \u001b[39mif\u001b[39;00m name \u001b[39mis\u001b[39;00m \u001b[39mnot\u001b[39;00m \u001b[39mNone\u001b[39;00m:\n",
      "\u001b[1;31mKeyboardInterrupt\u001b[0m: "
     ]
    }
   ],
   "source": [
    "# **训练模型**\n",
    "model.compile(optimizer=Adam(learning_rate=0.0001), loss='categorical_crossentropy', metrics=['accuracy'])\n",
    "\n",
    "epochs = 200\n",
    "batch_size = 8\n",
    "\n",
    "history = model.fit(\n",
    "    X_train, y_train,\n",
    "    validation_data=(X_test, y_test),\n",
    "    epochs=epochs,\n",
    "    batch_size=batch_size,\n",
    "    verbose=1\n",
    ")\n",
    "\n",
    "# **测试模型**\n",
    "y_pred = model.predict(X_test)\n",
    "y_pred_classes = np.argmax(y_pred, axis=1)\n",
    "y_test_classes = np.argmax(y_test, axis=1)\n",
    "\n",
    "# **计算准确率**\n",
    "accuracy = accuracy_score(y_test_classes, y_pred_classes)\n",
    "print(f\"Test Accuracy: {accuracy:.4f}\")"
   ]
  },
  {
   "cell_type": "code",
   "execution_count": 18,
   "metadata": {},
   "outputs": [
    {
     "data": {
      "image/png": "[encoded data removed]",
      "text/plain": [
       "<Figure size 640x480 with 1 Axes>"
      ]
     },
     "metadata": {},
     "output_type": "display_data"
    }
   ],
   "source": [
    "from matplotlib import pyplot as plt\n",
    "plt.figure()\n",
    "plt.plot(history.history[\"loss\"])\n",
    "plt.plot(history.history[\"val_loss\"])\n",
    "plt.show()"
   ]
  },
  {
   "cell_type": "code",
   "execution_count": 7,
   "metadata": {},
   "outputs": [
    {
     "data": {
      "text/plain": [
       "array([[1., 0., 0.],\n",
       "       [1., 0., 0.],\n",
       "       [0., 0., 1.],\n",
       "       [0., 0., 1.],\n",
       "       [0., 0., 1.],\n",
       "       [1., 0., 0.]], dtype=float32)"
      ]
     },
     "execution_count": 7,
     "metadata": {},
     "output_type": "execute_result"
    }
   ],
   "source": [
    "y_test\n"
   ]
  },
  {
   "cell_type": "code",
   "execution_count": 20,
   "metadata": {},
   "outputs": [
    {
     "data": {
      "text/plain": [
       "(36, 59, 15, 1)"
      ]
     },
     "execution_count": 20,
     "metadata": {},
     "output_type": "execute_result"
    }
   ],
   "source": [
    "X_train.shape"
   ]
  }
 ],
 "metadata": {
  "kernelspec": {
   "display_name": "Python 3.9.20 ('tensorflow')",
   "language": "python",
   "name": "python3"
  },
  "language_info": {
   "codemirror_mode": {
    "name": "ipython",
    "version": 3
   },
   "file_extension": ".py",
   "mimetype": "text/x-python",
   "name": "python",
   "nbconvert_exporter": "python",
   "pygments_lexer": "ipython3",
   "version": "3.9.20"
  },
  "orig_nbformat": 4,
  "vscode": {
   "interpreter": {
    "hash": "2403de98e458f1581c3ddc5cac98c8c9b462b82dd05a074a785d43eb5bf629fe"
   }
  }
 },
 "nbformat": 4,
 "nbformat_minor": 2
}
