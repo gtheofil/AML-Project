{
 "cells": [
  {
   "cell_type": "code",
   "execution_count": 1,
   "metadata": {},
   "outputs": [
    {
     "name": "stdout",
     "output_type": "stream",
     "text": [
      "Loaded features from E:\\MSC\\Spring\\AML\\GestureLink\\windowed_data\\feature_matrix.npy, shape: (30, 59, 15, 7)\n",
      "Loaded labels from E:\\MSC\\Spring\\AML\\GestureLink\\windowed_data\\labels.npy, shape: (30,)\n",
      "Training set: X_train: (24, 59, 15, 7), y_train: (24,)\n",
      "Testing set: X_test: (6, 59, 15, 7), y_test: (6,)\n"
     ]
    }
   ],
   "source": [
    "import numpy as np\n",
    "import os\n",
    "from sklearn.model_selection import train_test_split\n",
    "\n",
    "def load_data(data_folder, test_size=0.2, random_state=42):\n",
    "    \"\"\"\n",
    "    加载 `feature_matrix.npy` 和 `labels.npy` 数据，并划分训练集和测试集。\n",
    "\n",
    "    参数：\n",
    "    - data_folder: 存放数据的文件夹路径\n",
    "    - test_size: 测试集比例 (默认 20%)\n",
    "    - random_state: 随机种子，保证可复现性\n",
    "\n",
    "    返回：\n",
    "    - X_train: 训练集特征，形状 (train_batches, num_windows, 15, num_channels)\n",
    "    - X_test: 测试集特征，形状 (test_batches, num_windows, 15, num_channels)\n",
    "    - y_train: 训练集标签，形状 (train_batches,)\n",
    "    - y_test: 测试集标签，形状 (test_batches,)\n",
    "    \"\"\"\n",
    "    # **加载数据**\n",
    "    feature_path = os.path.join(data_folder, \"feature_matrix.npy\")\n",
    "    label_path = os.path.join(data_folder, \"labels.npy\")\n",
    "\n",
    "    if not os.path.exists(feature_path) or not os.path.exists(label_path):\n",
    "        raise FileNotFoundError(\"特征文件或标签文件未找到，请检查路径！\")\n",
    "\n",
    "    X = np.load(feature_path)  # 形状 (num_batches, num_windows, 15, num_channels)\n",
    "    y = np.load(label_path)  # 形状 (num_batches,)\n",
    "\n",
    "    # **数据基本信息**\n",
    "    print(f\"Loaded features from {feature_path}, shape: {X.shape}\")\n",
    "    print(f\"Loaded labels from {label_path}, shape: {y.shape}\")\n",
    "\n",
    "    # **划分训练集和测试集**\n",
    "    # X_train, X_test, y_train, y_test = train_test_split(X, y, test_size=test_size, random_state=random_state, stratify=y)\n",
    "    X_train, X_test, y_train, y_test = train_test_split(\n",
    "            X, y, test_size=0.2, random_state=random_state\n",
    "        )\n",
    "\n",
    "    # **打印数据划分信息**\n",
    "    print(f\"Training set: X_train: {X_train.shape}, y_train: {y_train.shape}\")\n",
    "    print(f\"Testing set: X_test: {X_test.shape}, y_test: {y_test.shape}\")\n",
    "\n",
    "    return X_train, X_test, y_train, y_test\n",
    "\n",
    "# **使用示例**\n",
    "data_folder = r\"E:\\MSC\\Spring\\AML\\GestureLink\\windowed_data\"\n",
    "X_train, X_test, y_train, y_test = load_data(data_folder)\n",
    "\n"
   ]
  },
  {
   "cell_type": "code",
   "execution_count": 5,
   "metadata": {},
   "outputs": [
    {
     "name": "stdout",
     "output_type": "stream",
     "text": [
      "Loaded features from E:\\MSC\\Spring\\AML\\GestureLink\\windowed_data\\feature_matrix.npy, shape: (30, 59, 15, 7)\n",
      "Loaded labels from E:\\MSC\\Spring\\AML\\GestureLink\\windowed_data\\labels.npy, shape: (30,)\n",
      "Training set: X_train: (24, 59, 15, 7), y_train: (24,)\n",
      "Testing set: X_test: (6, 59, 15, 7), y_test: (6,)\n",
      "Corrected Classes: 3, Batches: 24, Windows: 59, Features: 15, Channels: 7\n",
      "X_train shape: (24, 59, 5, 1), y_train shape: (24, 3)\n",
      "X_test shape: (6, 59, 5, 1), y_test shape: (6, 3)\n",
      "Epoch 1/10\n",
      "3/3 [==============================] - 5s 475ms/step - loss: 1.0909 - accuracy: 0.0833 - val_loss: 1.0139 - val_accuracy: 0.5000\n",
      "Epoch 2/10\n",
      "3/3 [==============================] - 0s 50ms/step - loss: 1.0919 - accuracy: 0.4167 - val_loss: 0.9812 - val_accuracy: 0.5000\n",
      "Epoch 3/10\n",
      "3/3 [==============================] - 0s 67ms/step - loss: 1.0532 - accuracy: 0.6250 - val_loss: 0.9453 - val_accuracy: 0.5000\n",
      "Epoch 4/10\n",
      "3/3 [==============================] - 0s 50ms/step - loss: 1.0650 - accuracy: 0.5833 - val_loss: 0.9121 - val_accuracy: 0.5000\n",
      "Epoch 5/10\n",
      "3/3 [==============================] - 0s 53ms/step - loss: 0.9968 - accuracy: 0.7083 - val_loss: 0.8815 - val_accuracy: 0.5000\n",
      "Epoch 6/10\n",
      "3/3 [==============================] - 0s 49ms/step - loss: 0.9860 - accuracy: 0.7083 - val_loss: 0.8555 - val_accuracy: 0.5000\n",
      "Epoch 7/10\n",
      "3/3 [==============================] - 0s 65ms/step - loss: 0.9891 - accuracy: 0.7083 - val_loss: 0.8380 - val_accuracy: 0.5000\n",
      "Epoch 8/10\n",
      "3/3 [==============================] - 0s 52ms/step - loss: 0.9616 - accuracy: 0.6667 - val_loss: 0.8221 - val_accuracy: 0.5000\n",
      "Epoch 9/10\n",
      "3/3 [==============================] - 0s 48ms/step - loss: 0.9482 - accuracy: 0.7500 - val_loss: 0.8088 - val_accuracy: 0.5000\n",
      "Epoch 10/10\n",
      "3/3 [==============================] - 0s 47ms/step - loss: 0.9364 - accuracy: 0.6667 - val_loss: 0.7956 - val_accuracy: 0.5000\n",
      "1/1 [==============================] - 1s 789ms/step\n",
      "Test Accuracy: 0.5000\n"
     ]
    }
   ],
   "source": [
    "import numpy as np\n",
    "import tensorflow as tf\n",
    "from tensorflow.keras.models import Sequential\n",
    "from tensorflow.keras.layers import LSTM, Dense, Dropout, TimeDistributed, Conv1D, Flatten\n",
    "from tensorflow.keras.optimizers import Adam\n",
    "from sklearn.metrics import accuracy_score\n",
    "from sklearn.preprocessing import LabelEncoder\n",
    "from tensorflow.keras.utils import to_categorical\n",
    "\n",
    "# **加载数据**\n",
    "data_folder = r\"E:\\MSC\\Spring\\AML\\GestureLink\\windowed_data\"\n",
    "X_train, X_test, y_train, y_test = load_data(data_folder)\n",
    "X_train = np.nan_to_num(X_train, nan=0.0)\n",
    "X_test = np.nan_to_num(X_test, nan=0.0)\n",
    "y_train = np.nan_to_num(y_train, nan = 0.0)\n",
    "y_test = np.nan_to_num(y_test, nan = 0.0)\n",
    "# **获取数据形状**\n",
    "num_batches = X_train.shape[0]  # batch 维度\n",
    "num_windows = X_train.shape[1]  # 时间步（窗口数 59）\n",
    "num_features = X_train.shape[2]  # 特征数（15）\n",
    "num_channels = X_train.shape[3]  # 通道数（1）\n",
    "\n",
    "# **检测类别数量**\n",
    "unique_classes = np.unique(y_train)\n",
    "num_classes = len(unique_classes)  # 确保类别数正确\n",
    "\n",
    "print(f\"Corrected Classes: {num_classes}, Batches: {num_batches}, Windows: {num_windows}, Features: {num_features}, Channels: {num_channels}\")\n",
    "\n",
    "# **保持 X 形状**\n",
    "X_train = X_train.reshape(num_batches, num_windows, num_features, num_channels)\n",
    "X_test = X_test.reshape(X_test.shape[0], num_windows, num_features, num_channels)\n",
    "X_train = X_train[:,:,:5,:1]\n",
    "X_test = X_test[:,:,:5,:1]\n",
    "num_features = X_train.shape[2] \n",
    "num_channels = X_train.shape[3]\n",
    "# **标签编码**\n",
    "encoder = LabelEncoder()\n",
    "y_train = encoder.fit_transform(y_train)  # 转换成 0,1,2\n",
    "y_test = encoder.transform(y_test)\n",
    "\n",
    "# **转换为 One-Hot**\n",
    "y_train = to_categorical(y_train, num_classes=num_classes)\n",
    "y_test = to_categorical(y_test, num_classes=num_classes)\n",
    "\n",
    "print(f\"X_train shape: {X_train.shape}, y_train shape: {y_train.shape}\")  # (batch, 59, 15, 1) (batch, 3)\n",
    "print(f\"X_test shape: {X_test.shape}, y_test shape: {y_test.shape}\")  # (batch, 59, 15, 1) (batch, 3)\n",
    "\n",
    "# print(num_features)\n",
    "# **构建 LSTM 处理通道的模型**\n",
    "model = Sequential([\n",
    "    TimeDistributed(Conv1D(filters=16, kernel_size=3, activation='relu'), input_shape=(num_windows, num_features, num_channels)),  # 1D CNN 提取局部特征\n",
    "    TimeDistributed(Flatten()),  # 压缩通道\n",
    "    LSTM(64, return_sequences=True),\n",
    "    Dropout(0.3),\n",
    "    LSTM(32, return_sequences=False),\n",
    "    Dropout(0.3),\n",
    "    Dense(32, activation='relu'),\n",
    "    Dense(num_classes, activation='softmax')  # 多分类\n",
    "])\n",
    "\n",
    "# **编译模型**\n",
    "model.compile(optimizer=Adam(learning_rate=0.0001), loss='categorical_crossentropy', metrics=['accuracy'])\n",
    "\n",
    "# **训练模型**\n",
    "epochs = 10\n",
    "batch_size = 8\n",
    "\n",
    "history = model.fit(\n",
    "    X_train, y_train,\n",
    "    validation_data=(X_test, y_test),\n",
    "    epochs=epochs,\n",
    "    batch_size=batch_size,\n",
    "    verbose=1\n",
    ")\n",
    "\n",
    "# **测试模型**\n",
    "y_pred = model.predict(X_test)\n",
    "y_pred_classes = np.argmax(y_pred, axis=1)\n",
    "y_test_classes = np.argmax(y_test, axis=1)\n",
    "\n",
    "# **计算准确率**\n",
    "accuracy = accuracy_score(y_test_classes, y_pred_classes)\n",
    "print(f\"Test Accuracy: {accuracy:.4f}\")\n",
    "\n",
    "# **保存模型**\n",
    "# model.save(\"rnn_emg_model.h5\")\n",
    "# print(\"Model saved as rnn_emg_model.h5\")\n"
   ]
  },
  {
   "cell_type": "code",
   "execution_count": 6,
   "metadata": {},
   "outputs": [
    {
     "data": {
      "image/png": "[encoded data removed]",
      "text/plain": [
       "<Figure size 640x480 with 1 Axes>"
      ]
     },
     "metadata": {},
     "output_type": "display_data"
    }
   ],
   "source": [
    "from matplotlib import pyplot as plt\n",
    "plt.figure()\n",
    "plt.plot(history.history[\"loss\"])\n",
    "plt.show()"
   ]
  },
  {
   "cell_type": "code",
   "execution_count": 7,
   "metadata": {},
   "outputs": [
    {
     "data": {
      "text/plain": [
       "array([[1., 0., 0.],\n",
       "       [1., 0., 0.],\n",
       "       [0., 0., 1.],\n",
       "       [0., 0., 1.],\n",
       "       [0., 0., 1.],\n",
       "       [1., 0., 0.]], dtype=float32)"
      ]
     },
     "execution_count": 7,
     "metadata": {},
     "output_type": "execute_result"
    }
   ],
   "source": [
    "y_test\n"
   ]
  },
  {
   "cell_type": "code",
   "execution_count": 20,
   "metadata": {},
   "outputs": [
    {
     "data": {
      "text/plain": [
       "(36, 59, 15, 1)"
      ]
     },
     "execution_count": 20,
     "metadata": {},
     "output_type": "execute_result"
    }
   ],
   "source": [
    "X_train.shape"
   ]
  }
 ],
 "metadata": {
  "kernelspec": {
   "display_name": "Python 3.9.20 ('tensorflow')",
   "language": "python",
   "name": "python3"
  },
  "language_info": {
   "codemirror_mode": {
    "name": "ipython",
    "version": 3
   },
   "file_extension": ".py",
   "mimetype": "text/x-python",
   "name": "python",
   "nbconvert_exporter": "python",
   "pygments_lexer": "ipython3",
   "version": "3.9.20"
  },
  "orig_nbformat": 4,
  "vscode": {
   "interpreter": {
    "hash": "2403de98e458f1581c3ddc5cac98c8c9b462b82dd05a074a785d43eb5bf629fe"
   }
  }
 },
 "nbformat": 4,
 "nbformat_minor": 2
}
