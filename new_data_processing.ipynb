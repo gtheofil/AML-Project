{
 "cells": [
  {
   "cell_type": "code",
   "execution_count": 12,
   "metadata": {},
   "outputs": [],
   "source": [
    "import pandas as pd\n",
    "import numpy as np\n",
    "\n",
    "def process_gesture_data(file_path):\n",
    "    # 读取 CSV 文件\n",
    "    df = pd.read_csv(file_path, header=None)\n",
    "    \n",
    "    # 移除第一列（时间列无用）\n",
    "    df = df.iloc[:, 1:].reset_index(drop=True)\n",
    "    \n",
    "    # 识别手势分割行（全 0 行）\n",
    "    empty_rows = df[(df == 0).all(axis=1)].index.tolist()\n",
    "    print(f\"Detected empty rows at indices: {empty_rows}\")\n",
    "    \n",
    "    # 分割手势数据\n",
    "    gestures = []\n",
    "    start_idx = 0\n",
    "    for idx in empty_rows + [len(df)]:  # 确保包含最后一个手势\n",
    "        if start_idx < idx:  # 避免连续空行导致空片段\n",
    "            gestures.append(df.iloc[start_idx:idx].reset_index(drop=True))\n",
    "        start_idx = idx + 1\n",
    "    \n",
    "    processed_gestures = []\n",
    "    \n",
    "    for i, gesture in enumerate(gestures):\n",
    "        data = gesture.to_numpy()\n",
    "        print(f\"Processing Gesture {i+1} with {data.shape[0]} samples\")\n",
    "        \n",
    "        # 如果数据多于1000，直接截断\n",
    "        if data.shape[0] > 1000:\n",
    "            data = data[:1000]\n",
    "        \n",
    "        # 插值到 1000 采样点（如果不足）\n",
    "        if data.shape[0] < 1000:\n",
    "            x_old = np.linspace(0, 1, data.shape[0])\n",
    "            x_new = np.linspace(0, 1, 1000)\n",
    "            data = np.array([np.interp(x_new, x_old, data[:, j]) for j in range(data.shape[1])]).T\n",
    "        \n",
    "        # 切分窗口：100 个点一个窗口，步长 50\n",
    "        windows = []\n",
    "        for start in range(0, 1000 - 100 + 1, 50):\n",
    "            windows.append(data[start:start + 100])\n",
    "        \n",
    "        # 转换成 [1, window_num, 100, 10]\n",
    "        windows = np.array(windows)\n",
    "        windows = np.expand_dims(windows, axis=0)  # 额外的 batch 维度\n",
    "        \n",
    "        # 记录手势编号\n",
    "        gesture_id = np.full((1, windows.shape[1], 100, 1), i + 1)  # 手势编号从 1 开始\n",
    "        windows = np.concatenate((gesture_id, windows), axis=-1)  # 拼接到第一个通道\n",
    "        \n",
    "        # 存储到列表\n",
    "        processed_gestures.append(windows)\n",
    "    \n",
    "    # 合并所有手势数据\n",
    "    final_data = np.concatenate(processed_gestures, axis=0)  # [gesture_count, window_num, 100, 11]\n",
    "    return final_data\n"
   ]
  },
  {
   "cell_type": "code",
   "execution_count": 13,
   "metadata": {},
   "outputs": [
    {
     "name": "stdout",
     "output_type": "stream",
     "text": [
      "Detected empty rows at indices: []\n",
      "Processing Gesture 1 with 4009 samples\n",
      "Final data shape: (1, 19, 100, 11)\n"
     ]
    }
   ],
   "source": [
    "# 示例调用\n",
    "file_path = r\"new_collect\\fzh\\sensor_data2.csv\"\n",
    "gesture_data = process_gesture_data(file_path)\n",
    "print(\"Final data shape:\", gesture_data.shape)"
   ]
  }
 ],
 "metadata": {
  "kernelspec": {
   "display_name": "Python 3.9.20 ('tensorflow')",
   "language": "python",
   "name": "python3"
  },
  "language_info": {
   "codemirror_mode": {
    "name": "ipython",
    "version": 3
   },
   "file_extension": ".py",
   "mimetype": "text/x-python",
   "name": "python",
   "nbconvert_exporter": "python",
   "pygments_lexer": "ipython3",
   "version": "3.9.20"
  },
  "orig_nbformat": 4,
  "vscode": {
   "interpreter": {
    "hash": "2403de98e458f1581c3ddc5cac98c8c9b462b82dd05a074a785d43eb5bf629fe"
   }
  }
 },
 "nbformat": 4,
 "nbformat_minor": 2
}
