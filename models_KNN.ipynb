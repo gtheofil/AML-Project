{
 "cells": [
  {
   "cell_type": "markdown",
   "metadata": {},
   "source": [
    "# load data"
   ]
  },
  {
   "cell_type": "code",
   "execution_count": 4,
   "metadata": {},
   "outputs": [
    {
     "name": "stdout",
     "output_type": "stream",
     "text": [
      "Loading processed data...\n",
      "Data shape: (325, 19, 100, 10), Labels shape: (325,)\n",
      "Training set: (260, 19, 100, 10), Testing set: (65, 19, 100, 10)\n"
     ]
    }
   ],
   "source": [
    "import os\n",
    "import numpy as np\n",
    "from sklearn.model_selection import train_test_split\n",
    "\n",
    "def load_data(root_path, test_size=0.2, random_state=42):\n",
    "    \"\"\"\n",
    "    加载预处理的手势数据，并拆分为训练集和测试集。\n",
    "    \n",
    "    参数：\n",
    "    root_path (str): 存储 processed_gesture_data.npy 和 gesture_labels.npy 的根目录\n",
    "    test_size (float): 测试集比例，默认 20%\n",
    "    random_state (int): 随机种子，确保可复现性\n",
    "    \n",
    "    返回：\n",
    "    X_train, X_test, y_train, y_test: 训练集和测试集的数据及标签\n",
    "    \"\"\"\n",
    "    data_path = os.path.join(root_path, \"processed_gesture_data.npy\")\n",
    "    label_path = os.path.join(root_path, \"gesture_labels.npy\")\n",
    "    \n",
    "    if not os.path.exists(data_path) or not os.path.exists(label_path):\n",
    "        raise FileNotFoundError(\"Processed gesture data or labels not found. Please run process_all_gesture_files first.\")\n",
    "    \n",
    "    print(\"Loading processed data...\")\n",
    "    X = np.load(data_path,allow_pickle=True)\n",
    "    y = np.load(label_path,allow_pickle=True)\n",
    "    \n",
    "    print(f\"Data shape: {X.shape}, Labels shape: {y.shape}\")\n",
    "    \n",
    "    X_train, X_test, y_train, y_test = train_test_split(X, y, test_size=test_size, random_state=random_state, stratify=y)\n",
    "    \n",
    "    print(f\"Training set: {X_train.shape}, Testing set: {X_test.shape}\")\n",
    "    \n",
    "    return X_train, X_test, y_train, y_test\n",
    "\n",
    "data_folder = r\"new_collect\\fzh\"  \n",
    "X_train, X_test, y_train, y_test = load_data(data_folder)\n"
   ]
  },
  {
   "cell_type": "markdown",
   "metadata": {},
   "source": [
    "# load selected data"
   ]
  },
  {
   "cell_type": "code",
   "execution_count": 2,
   "metadata": {},
   "outputs": [
    {
     "name": "stdout",
     "output_type": "stream",
     "text": [
      "Loading processed data...\n",
      "Original Data shape: (325, 19, 100, 10), Labels shape: (325,)\n",
      "Training set: (260, 19, 100, 10), Testing set: (65, 19, 100, 10)\n",
      "Loading processed data...\n",
      "Original Data shape: (325, 19, 100, 10), Labels shape: (325,)\n",
      "Filtered Data shape (after selecting labels {1, 4, 6, 7}): (100, 19, 100, 10)\n",
      "Training set: (80, 19, 100, 10), Testing set: (20, 19, 100, 10)\n"
     ]
    }
   ],
   "source": [
    "# import os\n",
    "# import numpy as np\n",
    "# from sklearn.model_selection import train_test_split\n",
    "\n",
    "# def load_data(root_path, selected_labels=None, test_size=0.2, random_state=42):\n",
    "#     \"\"\"\n",
    "#     加载预处理的手势数据，并拆分为训练集和测试集，支持选择特定的标签。\n",
    "    \n",
    "#     参数：\n",
    "#     - root_path (str): 存储 `processed_gesture_data.npy` 和 `gesture_labels.npy` 的根目录\n",
    "#     - selected_labels (list[int] or None): 选择加载的标签列表，例如 [1, 4, 6, 7]。如果 None，则加载所有数据。\n",
    "#     - test_size (float): 测试集比例，默认 20%\n",
    "#     - random_state (int): 随机种子，确保可复现性\n",
    "    \n",
    "#     返回：\n",
    "#     - X_train, X_test, y_train, y_test: 训练集和测试集的数据及标签\n",
    "#     \"\"\"\n",
    "#     data_path = os.path.join(root_path, \"processed_gesture_data.npy\")\n",
    "#     label_path = os.path.join(root_path, \"gesture_labels.npy\")\n",
    "    \n",
    "#     if not os.path.exists(data_path) or not os.path.exists(label_path):\n",
    "#         raise FileNotFoundError(\"Processed gesture data or labels not found. Please run process_all_gesture_files first.\")\n",
    "    \n",
    "#     print(\"Loading processed data...\")\n",
    "#     X = np.load(data_path, allow_pickle=True)\n",
    "#     y = np.load(label_path, allow_pickle=True)\n",
    "    \n",
    "#     print(f\"Original Data shape: {X.shape}, Labels shape: {y.shape}\")\n",
    "\n",
    "#     # 选择指定标签的数据\n",
    "#     if selected_labels is not None:\n",
    "#         selected_labels = set(selected_labels)  # 转换为集合加速查询\n",
    "#         mask = np.isin(y, list(selected_labels))  # 选择符合标签的数据\n",
    "#         X = X[mask]\n",
    "#         y = y[mask]\n",
    "#         print(f\"Filtered Data shape (after selecting labels {selected_labels}): {X.shape}\")\n",
    "\n",
    "#     # 划分训练集和测试集\n",
    "#     X_train, X_test, y_train, y_test = train_test_split(\n",
    "#         X, y, test_size=test_size, random_state=random_state, stratify=y\n",
    "#     )\n",
    "\n",
    "#     print(f\"Training set: {X_train.shape}, Testing set: {X_test.shape}\")\n",
    "    \n",
    "#     return X_train, X_test, y_train, y_test\n",
    "\n",
    "# # 示例调用：加载所有数据\n",
    "# data_folder = r\"new_collect\\fzh\"\n",
    "# X_train, X_test, y_train, y_test = load_data(data_folder)\n",
    "\n",
    "# # 示例调用：只加载选定的标签\n",
    "# selected_labels = [1, 4, 6, 7]\n",
    "# X_train, X_test, y_train, y_test = load_data(data_folder, selected_labels=selected_labels)\n"
   ]
  },
  {
   "cell_type": "markdown",
   "metadata": {},
   "source": [
    "# KNN"
   ]
  },
  {
   "cell_type": "code",
   "execution_count": 6,
   "metadata": {},
   "outputs": [
    {
     "name": "stdout",
     "output_type": "stream",
     "text": [
      "KNN 测试集准确率: 0.74\n",
      "分类报告:\n",
      "               precision    recall  f1-score   support\n",
      "\n",
      "           0       1.00      1.00      1.00         5\n",
      "           1       1.00      1.00      1.00         5\n",
      "           2       0.75      0.60      0.67         5\n",
      "           3       0.50      0.80      0.62         5\n",
      "           4       0.60      0.60      0.60         5\n",
      "           5       1.00      1.00      1.00         5\n",
      "           6       0.67      0.80      0.73         5\n",
      "           7       0.43      0.60      0.50         5\n",
      "           8       0.83      1.00      0.91         5\n",
      "           9       1.00      0.60      0.75         5\n",
      "          10       0.67      0.80      0.73         5\n",
      "          11       0.75      0.60      0.67         5\n",
      "          12       1.00      0.20      0.33         5\n",
      "\n",
      "    accuracy                           0.74        65\n",
      "   macro avg       0.78      0.74      0.73        65\n",
      "weighted avg       0.78      0.74      0.73        65\n",
      "\n"
     ]
    }
   ],
   "source": [
    "import numpy as np\n",
    "import os\n",
    "from sklearn.model_selection import train_test_split\n",
    "from sklearn.neighbors import KNeighborsClassifier\n",
    "from sklearn.metrics import accuracy_score, classification_report\n",
    "from sklearn.preprocessing import LabelEncoder\n",
    "\n",
    "encoder = LabelEncoder()\n",
    "y_train = encoder.fit_transform(y_train)  # 转换成 0,1,2\n",
    "y_test = encoder.transform(y_test)\n",
    "\n",
    "X_train = np.nan_to_num(X_train, nan=0.0)\n",
    "X_test = np.nan_to_num(X_test, nan=0.0)\n",
    "y_train = np.nan_to_num(y_train, nan = 0.0)\n",
    "y_test = np.nan_to_num(y_test, nan = 0.0)\n",
    "X_train = X_train[:,:,:,:]\n",
    "X_test = X_test[:,:,:,:]\n",
    "# **KNN 训练**\n",
    "knn = KNeighborsClassifier(n_neighbors=4)  # k=5\n",
    "X_train_flatten = X_train.reshape(X_train.shape[0], -1)  # (batch, 15*10)\n",
    "X_test_flatten = X_test.reshape(X_test.shape[0], -1)  # (batch, 15*10)\n",
    "\n",
    "knn.fit(X_train_flatten, y_train)\n",
    "\n",
    "# **KNN 预测**\n",
    "y_pred = knn.predict(X_test_flatten)\n",
    "\n",
    "# **评估**\n",
    "accuracy = accuracy_score(y_test, y_pred)\n",
    "print(f\"KNN 测试集准确率: {accuracy:.2f}\")\n",
    "\n",
    "# **打印分类报告**\n",
    "print(\"分类报告:\\n\", classification_report(y_test, y_pred))\n"
   ]
  },
  {
   "cell_type": "markdown",
   "metadata": {},
   "source": [
    "# confusion matrix"
   ]
  },
  {
   "cell_type": "code",
   "execution_count": 7,
   "metadata": {},
   "outputs": [
    {
     "data": {
      "image/png": "[encoded data removed]",
      "text/plain": [
       "<Figure size 800x600 with 2 Axes>"
      ]
     },
     "metadata": {},
     "output_type": "display_data"
    }
   ],
   "source": [
    "import numpy as np\n",
    "import seaborn as sns\n",
    "import matplotlib.pyplot as plt\n",
    "from sklearn.metrics import confusion_matrix\n",
    "\n",
    "# 计算混淆矩阵\n",
    "cm = confusion_matrix(y_test, y_pred)\n",
    "\n",
    "# 可视化\n",
    "plt.figure(figsize=(8, 6))\n",
    "sns.heatmap(cm, annot=True, fmt=\"d\", cmap=\"Blues\", xticklabels=encoder.classes_, yticklabels=encoder.classes_)\n",
    "plt.xlabel(\"Predicted Label\")\n",
    "plt.ylabel(\"True Label\")\n",
    "plt.title(\"Confusion Matrix\")\n",
    "plt.show()\n"
   ]
  }
 ],
 "metadata": {
  "kernelspec": {
   "display_name": "Python 3.9.20 ('tensorflow')",
   "language": "python",
   "name": "python3"
  },
  "language_info": {
   "codemirror_mode": {
    "name": "ipython",
    "version": 3
   },
   "file_extension": ".py",
   "mimetype": "text/x-python",
   "name": "python",
   "nbconvert_exporter": "python",
   "pygments_lexer": "ipython3",
   "version": "3.9.20"
  },
  "orig_nbformat": 4,
  "vscode": {
   "interpreter": {
    "hash": "2403de98e458f1581c3ddc5cac98c8c9b462b82dd05a074a785d43eb5bf629fe"
   }
  }
 },
 "nbformat": 4,
 "nbformat_minor": 2
}
