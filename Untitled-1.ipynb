{
 "cells": [
  {
   "cell_type": "code",
   "execution_count": null,
   "metadata": {},
   "outputs": [],
   "source": [
    "import serial\n",
    "import time\n",
    "import csv\n",
    "\n",
    "# Set serial parameters (adjust according to your Arduino device)\n",
    "PORT = \"COM3\"  # Check the port in Windows Device Manager, Linux/macOS might use \"/dev/ttyUSB0\"\n",
    "BAUDRATE = 500000  # Must match the baud rate set in Arduino code\n",
    "FILENAME = \"data.csv\"  # Output file for storing data\n",
    "\n",
    "# Open the serial port\n",
    "ser = serial.Serial(PORT, BAUDRATE, timeout=1)\n",
    "time.sleep(2)  # Wait for Arduino to initialize\n",
    "\n",
    "# Create a CSV file and write the header\n",
    "with open(FILENAME, \"w\", newline=\"\") as file:\n",
    "    writer = csv.writer(file)\n",
    "    writer.writerow([\"Timestamp\", \"SensorValue\"])  # Add column headers\n",
    "\n",
    "    print(\"Data acquisition started... Press Ctrl+C to stop\")\n",
    "    try:\n",
    "        while True:\n",
    "            line = ser.readline().decode(\"utf-8\").strip()  # Read and decode serial data\n",
    "            if line:\n",
    "                timestamp = time.time()  # Get the current timestamp\n",
    "                writer.writerow([timestamp, line])  # Write data to CSV file\n",
    "                print(timestamp, line)  # Display data in the terminal\n",
    "    except KeyboardInterrupt:\n",
    "        print(\"Data acquisition stopped\")  # Handle manual interruption\n",
    "\n",
    "# Close the serial port\n",
    "ser.close()\n"
   ]
  },
  {
   "cell_type": "code",
   "execution_count": null,
   "metadata": {},
   "outputs": [],
   "source": [
    "\"\"\" plot \"\"\"\n",
    "import pandas as pd\n",
    "import matplotlib.pyplot as plt\n",
    "\n",
    "# 读取 CSV 数据\n",
    "df = pd.read_csv(\"your_file.csv\")  # 修改为你的文件名\n",
    "\n",
    "# 画图\n",
    "plt.figure(figsize=(12, 6))\n",
    "plt.plot(df[\"Time (ms)\"], df[\"EMG1\"], label=\"EMG Sensor 1 (A0)\")\n",
    "plt.plot(df[\"Time (ms)\"], df[\"EMG2\"], label=\"EMG Sensor 2 (A1)\")\n",
    "plt.plot(df[\"Time (ms)\"], df[\"EMG3\"], label=\"EMG Sensor 3 (A2)\")\n",
    "plt.plot(df[\"Time (ms)\"], df[\"EMG4\"], label=\"EMG Sensor 4 (A3)\")\n",
    "\n",
    "plt.xlabel(\"Time (ms)\")\n",
    "plt.ylabel(\"EMG Value\")\n",
    "plt.title(\"MyoWare EMG Signal (4 Sensors)\")\n",
    "plt.legend()\n",
    "plt.show()\n"
   ]
  }
 ],
 "metadata": {
  "language_info": {
   "name": "python"
  },
  "orig_nbformat": 4
 },
 "nbformat": 4,
 "nbformat_minor": 2
}
